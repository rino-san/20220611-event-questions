{
 "cells": [
  {
   "cell_type": "code",
   "execution_count": null,
   "id": "dce28bb7-1a48-4717-a22d-be082107e26d",
   "metadata": {},
   "outputs": [],
   "source": [
    "for num in range(1, 101):\n",
    "    string = ''\n",
    "    # ここから記述\n",
    "    if num % 15 == 0:\n",
    "        string = \"FizzBuzz\"\n",
    "    elif num % 5 == 0:\n",
    "        string = \"Buzz\"\n",
    "    elif num % 3 == 0:\n",
    "        string = \"Fizz\"\n",
    "    else:\n",
    "        string = str(num)\n",
    "    # ここまで記述\n",
    "\n",
    "    print(string)\n",
    "    \n"
   ]
  }
 ],
 "metadata": {
  "kernelspec": {
   "display_name": "Python 3 (ipykernel)",
   "language": "python",
   "name": "python3"
  },
  "language_info": {
   "codemirror_mode": {
    "name": "ipython",
    "version": 3
   },
   "file_extension": ".py",
   "mimetype": "text/x-python",
   "name": "python",
   "nbconvert_exporter": "python",
   "pygments_lexer": "ipython3",
   "version": "3.9.5"
  }
 },
 "nbformat": 4,
 "nbformat_minor": 5
}
