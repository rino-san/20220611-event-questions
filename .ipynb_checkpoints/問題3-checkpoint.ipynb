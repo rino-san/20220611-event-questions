{
 "cells": [
  {
   "cell_type": "code",
   "execution_count": 13,
   "id": "92fce9bb-aba1-412a-b0ba-867e7b3c64a5",
   "metadata": {},
   "outputs": [
    {
     "name": "stdout",
     "output_type": "stream",
     "text": [
      "1\n",
      "2\n",
      "3\n",
      "4\n",
      "5\n",
      "6\n",
      "7\n",
      "8\n",
      "9\n",
      "10\n"
     ]
    }
   ],
   "source": [
    "def main():\n",
    "    #ランダムに並べられた重複のない整数の配列\n",
    "    array = [5, 4, 6, 2, 1, 9, 8, 3, 7, 10]\n",
    "    # ソート実行\n",
    "    sortedArray = sort(array)\n",
    "    # 結果出力\n",
    "    [print(i) for i in sortedArray]\n",
    "    \n",
    "def sort(array):\n",
    "###################<前提>###################\n",
    "# (1)いずれかがrefとの大小関係を満たさず、値の交換を行わない場合\n",
    "    #(左側の値)<refの場合はleftに追加\n",
    "    #(右側の値)>=refのときはrightに追加\n",
    "# (2)大小関係を満たす場合\n",
    "    #値の交換をした上で、(右側の値)をleftに、(左側の値)をrightに格納する\n",
    "# (3)先頭の値が最小になった場合\n",
    "    #無限ループを防ぐため、leftに格納する\n",
    "    \n",
    "    left = []\n",
    "    right = []\n",
    "\n",
    "    # 要素が一つの場合はソートの必要がないので、そのまま返却\n",
    "    if len(array) == 1:\n",
    "        return array\n",
    "    # 基準値\n",
    "    ref = array[0]\n",
    "    \n",
    "    l_ind = 0\n",
    "    r_ind = len(array)-1    \n",
    "    \n",
    "    while l_ind <= r_ind:\n",
    "        # (3)の場合\n",
    "        if l_ind == r_ind:\n",
    "            tmp = array[l_ind]\n",
    "            if tmp > ref:\n",
    "                right = [tmp] + right\n",
    "                break\n",
    "            else:\n",
    "                left.append(tmp)\n",
    "                break\n",
    "\n",
    "        tmp_l = array[l_ind]\n",
    "        tmp_r = array[r_ind] \n",
    "        ##(2)の場合\n",
    "        if tmp_l < ref:\n",
    "            left.append(tmp_l)\n",
    "            l_ind += 1\n",
    "            \n",
    "        elif tmp_l >= ref:\n",
    "            ##(1)の場合\n",
    "            if array[r_ind] < ref:\n",
    "                left.append(tmp_r)\n",
    "                right = [tmp_l] + right\n",
    "                l_ind += 1\n",
    "                r_ind -= 1\n",
    "            ## (2)の場合\n",
    "            else:\n",
    "                # right.insert(0,tmp_r)\n",
    "                right = [tmp_r]+ right\n",
    "                # right.append(tmp_r)\n",
    "                r_ind -= 1\n",
    "    #再帰によるソート\n",
    "    left = sort(left)\n",
    "    right = sort(right)\n",
    "    return left+right\n",
    "\n",
    "if __name__ == '__main__':\n",
    "    main()"
   ]
  },
  {
   "cell_type": "code",
   "execution_count": null,
   "id": "e8865ecf-7518-4de3-8790-f1448dc06fba",
   "metadata": {},
   "outputs": [],
   "source": []
  }
 ],
 "metadata": {
  "kernelspec": {
   "display_name": "Python 3 (ipykernel)",
   "language": "python",
   "name": "python3"
  },
  "language_info": {
   "codemirror_mode": {
    "name": "ipython",
    "version": 3
   },
   "file_extension": ".py",
   "mimetype": "text/x-python",
   "name": "python",
   "nbconvert_exporter": "python",
   "pygments_lexer": "ipython3",
   "version": "3.9.5"
  }
 },
 "nbformat": 4,
 "nbformat_minor": 5
}
