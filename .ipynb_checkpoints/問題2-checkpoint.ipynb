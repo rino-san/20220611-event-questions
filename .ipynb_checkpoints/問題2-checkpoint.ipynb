{
 "cells": [
  {
   "cell_type": "code",
   "execution_count": null,
   "id": "92fce9bb-aba1-412a-b0ba-867e7b3c64a5",
   "metadata": {},
   "outputs": [],
   "source": [
    "def main():\n",
    "    # 昇順にソートされた配列\n",
    "    sorted_array = [1, 2, 3, 5, 12, 7890, 12345]\n",
    "    # 探索対象の番号\n",
    "    target_number = 12345\n",
    "    # 探索実行\n",
    "    target_index = serch_index(sorted_array, target_number)\n",
    "    # 結果出力\n",
    "    print(target_index)\n",
    "\n",
    "def serch_index(sorted_array, target_number):\n",
    "    # ここから記述\n",
    "    left = 0\n",
    "    right = len(sorted_array) - 1\n",
    "    while left <= right:\n",
    "        mid = (left+right)//2\n",
    "        tmp_num = sorted_array[mid]\n",
    "        #ターゲットが存在した場合\n",
    "        if tmp_num == target_number:\n",
    "            return mid\n",
    "        #ターゲットが配列前半に存在する場合\n",
    "        elif tmp_num > target_number:\n",
    "            right = mid -1\n",
    "        #ターゲットが配列後半に存在する場合\n",
    "        elif tmp_num < target_number:\n",
    "            left = mid +1\n",
    "    # ここまで記述\n",
    "\n",
    "    # 探索対象が存在しない場合、-1を返却\n",
    "    return -1\n",
    "\n",
    "if __name__ == '__main__':\n",
    "    main()"
   ]
  }
 ],
 "metadata": {
  "kernelspec": {
   "display_name": "Python 3 (ipykernel)",
   "language": "python",
   "name": "python3"
  },
  "language_info": {
   "codemirror_mode": {
    "name": "ipython",
    "version": 3
   },
   "file_extension": ".py",
   "mimetype": "text/x-python",
   "name": "python",
   "nbconvert_exporter": "python",
   "pygments_lexer": "ipython3",
   "version": "3.9.5"
  }
 },
 "nbformat": 4,
 "nbformat_minor": 5
}
